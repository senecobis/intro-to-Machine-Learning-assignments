{
 "cells": [
  {
   "cell_type": "code",
   "execution_count": 47,
   "outputs": [],
   "source": [
    "import numpy as np\n",
    "import pandas as pd\n",
    "from sklearn.linear_model import LogisticRegression\n",
    "from sklearn.ensemble import RandomForestClassifier\n",
    "from sklearn import svm\n",
    "from sklearn.preprocessing import StandardScaler\n",
    "from sklearn.model_selection import KFold, StratifiedKFold, GridSearchCV, train_test_split\n",
    "from sklearn.metrics import mean_squared_error as rmse\n",
    "import time\n",
    "from sklearn import linear_model\n",
    "from sklearn.model_selection import KFold\n",
    "from sklearn.impute import SimpleImputer\n",
    "import csv\n",
    "\n",
    "sample = pd.read_csv('sample.csv', header = None)\n",
    "pid = pd.read_csv('train_features.csv').iloc[:, 0:1]\n",
    "train_features = pd.read_csv('train_features.csv').iloc[:, 1:]\n",
    "test_features = pd.read_csv('test_features.csv').iloc[:, 1:]\n",
    "train_labels = pd.read_csv('train_labels.csv').iloc[:, 1:]\n"
   ],
   "metadata": {
    "collapsed": false,
    "pycharm": {
     "name": "#%%\n"
    }
   }
  },
  {
   "cell_type": "code",
   "execution_count": 44,
   "outputs": [],
   "source": [
    "def imputation(X_nan):\n",
    "    num_pazienti = int(X_nan.shape[0]/12)\n",
    "    X = np.empty((num_pazienti, X_nan.shape[1]))\n",
    "    for rows in np.arange(0,num_pazienti*12,12):\n",
    "        X[int(rows/12),:] = np.nanmean(X_nan[int(rows):int(rows+11), :],axis=0)\n",
    "    inds = np.where(np.isnan(X))\n",
    "    medie_X = np.nanmean(X, axis=0)\n",
    "    X[inds] = np.take(medie_X, inds[1])\n",
    "    return(X)"
   ],
   "metadata": {
    "collapsed": false,
    "pycharm": {
     "name": "#%%\n"
    }
   }
  },
  {
   "cell_type": "code",
   "execution_count": 45,
   "outputs": [],
   "source": [
    "def single_imputation(X_nan, method):\n",
    "    num_pazienti = int(X_nan.shape[0]/12)\n",
    "    X = np.empty((num_pazienti, X_nan.shape[1]))\n",
    "    for rows in np.arange(0,num_pazienti*12,12):\n",
    "        X[int(rows/12),:X_nan.shape[1]] = np.nanmean(X_nan[int(rows):int(rows+11), :],axis=0)\n",
    "\n",
    "\n",
    "    if method=='mean':\n",
    "        imp_mean = SimpleImputer(missing_values=np.nan, strategy=method)\n",
    "        X=imp_mean.fit_transform(X)\n",
    "    elif method=='median':\n",
    "        imp_median = SimpleImputer(missing_values=np.nan, strategy=method)\n",
    "        X=imp_median.fit_transform(X)\n",
    "    elif method=='most_freq':\n",
    "        imp_mostfreq = SimpleImputer(missing_values=np.nan, strategy=method)\n",
    "        X=imp_mostfreq.fit_transform(X)\n",
    "\n",
    "    return X"
   ],
   "metadata": {
    "collapsed": false,
    "pycharm": {
     "name": "#%%\n"
    }
   }
  },
  {
   "cell_type": "markdown",
   "source": [
    "# Training of Support vector machine"
   ],
   "metadata": {
    "collapsed": false,
    "pycharm": {
     "name": "#%% md\n"
    }
   }
  },
  {
   "cell_type": "code",
   "execution_count": 46,
   "outputs": [
    {
     "name": "stderr",
     "output_type": "stream",
     "text": [
      "/var/folders/s4/bm5cfwp97214173jb5bgzcm40000gn/T/ipykernel_2819/3711884852.py:5: RuntimeWarning: Mean of empty slice\n",
      "  X[int(rows/12),:X_nan.shape[1]] = np.nanmean(X_nan[int(rows):int(rows+11), :],axis=0)\n",
      "/var/folders/s4/bm5cfwp97214173jb5bgzcm40000gn/T/ipykernel_2819/3711884852.py:5: RuntimeWarning: Mean of empty slice\n",
      "  X[int(rows/12),:X_nan.shape[1]] = np.nanmean(X_nan[int(rows):int(rows+11), :],axis=0)\n"
     ]
    },
    {
     "name": "stdout",
     "output_type": "stream",
     "text": [
      "11\n"
     ]
    }
   ],
   "source": [
    "X_train = single_imputation(np.array(train_features), 'mean')\n",
    "X_test = single_imputation(np.array(test_features), 'mean')\n",
    "#output_tot = np.array(X_test[:,0:1])\n",
    "#X_test = X_test[:,1::]\n",
    "y_training = np.array(train_labels)\n",
    "y = y_training[:,0:-4]\n",
    "tot_medical_test = y.shape[1]\n",
    "print(tot_medical_test)\n",
    "\n",
    "ScaleData=True\n",
    "if ScaleData :\n",
    "    scaler = StandardScaler()\n",
    "    X_train = scaler.fit_transform(X_train)\n",
    "    X_test = scaler.fit_transform(X_test)\n",
    "\n",
    "nvalid = 0.2 # 0 means no validation set (ratio!)\n",
    "x_train, x_valid, y_train, y_valid = train_test_split(X_train,y,test_size=nvalid,random_state=0)"
   ],
   "metadata": {
    "collapsed": false,
    "pycharm": {
     "name": "#%%\n"
    }
   }
  },
  {
   "cell_type": "markdown",
   "source": [
    "# First sub task"
   ],
   "metadata": {
    "collapsed": false,
    "pycharm": {
     "name": "#%% md\n"
    }
   }
  },
  {
   "cell_type": "code",
   "execution_count": null,
   "outputs": [
    {
     "name": "stdout",
     "output_type": "stream",
     "text": [
      "begin train 0\n",
      "time for a fitting 67.93858098983765\n",
      "begin train 1\n",
      "time for a fitting 44.46555709838867\n",
      "begin train 2\n",
      "time for a fitting 96.07575583457947\n",
      "begin train 3\n",
      "time for a fitting 92.88883829116821\n",
      "begin train 4\n",
      "time for a fitting 93.3154308795929\n",
      "begin train 5\n",
      "time for a fitting 78.5439829826355\n",
      "begin train 6\n",
      "time for a fitting 57.81569695472717\n",
      "begin train 7\n",
      "time for a fitting 76.86612915992737\n",
      "begin train 8\n",
      "time for a fitting 36.294697999954224\n",
      "begin train 9\n",
      "time for a fitting 77.64520215988159\n",
      "begin train 10\n"
     ]
    }
   ],
   "source": [
    "med_test_prob = {}\n",
    "rmse_vector = []\n",
    "results_1 = []\n",
    "for medical_test in range(tot_medical_test):\n",
    "    start = time.time()\n",
    "    clf = svm.SVC(probability=True, verbose=0)\n",
    "    print(\"begin train\", medical_test)\n",
    "    #clf.fit(x_train, y_train[:,medical_test])\n",
    "    #output = clf.predict_proba(x_valid)\n",
    "    clf.fit(X_train, y[:,medical_test])\n",
    "    output = clf.predict_proba(X_test)\n",
    "    #med_test_prob = {medical_test : output}\n",
    "    if medical_test != tot_medical_test:\n",
    "        results_1.append(output[:,1])\n",
    "    #rootmse = rmse(output[:,1],y_valid[:,medical_test])\n",
    "    #rmse_vector.append(rootmse)\n",
    "    #print(\"rmse for current fit\", rootmse)\n",
    "    print(\"time for a fitting\", time.time()-start)\n",
    "    if medical_test==tot_medical_test:\n",
    "        results_2 = output[:,1]\n",
    "        print(results_2.shape)\n"
   ],
   "metadata": {
    "collapsed": false,
    "pycharm": {
     "name": "#%%\n",
     "is_executing": true
    }
   }
  },
  {
   "cell_type": "code",
   "execution_count": null,
   "outputs": [],
   "source": [
    "print(np.shape(results_1))"
   ],
   "metadata": {
    "collapsed": false,
    "pycharm": {
     "name": "#%%\n",
     "is_executing": true
    }
   }
  },
  {
   "cell_type": "markdown",
   "source": [
    "# Third sub task"
   ],
   "metadata": {
    "collapsed": false,
    "pycharm": {
     "name": "#%% md\n"
    }
   }
  },
  {
   "cell_type": "code",
   "execution_count": null,
   "outputs": [],
   "source": [
    "def validate_model(best_lambda, sign):\n",
    "    Y_train=y_training[:,11:16]\n",
    "    x_train, x_valid, y_train, y_valid = train_test_split(X_train,Y_train,test_size=nvalid,random_state=0)\n",
    "    regression_class = linear_model.Ridge(alpha=best_lambda, solver='svd')\n",
    "    regression_class.fit(x_train, y_train[:,sign])\n",
    "    pred_label = regression_class.predict(x_valid)\n",
    "    rootmse = rmse(pred_label, y_valid[:,sign])**0.5\n",
    "    return rootmse"
   ],
   "metadata": {
    "collapsed": false,
    "pycharm": {
     "name": "#%%\n",
     "is_executing": true
    }
   }
  },
  {
   "cell_type": "code",
   "execution_count": null,
   "outputs": [],
   "source": [
    "vital_signs = 4\n",
    "Y_train=y_training[:,11:16]\n",
    "\n",
    "pred_label_vec = []\n",
    "for sign in range(vital_signs):\n",
    "    lambda_vec = np.array([0.1, 1, 10, 100, 200, 500, 1000])  #### lambda vector\n",
    "    number_folds = 10  #### Cross-validation folds\n",
    "    # 1. iteratively split the date in K = 10 folds\n",
    "    # K-fold cross-validation through sklearn\n",
    "    kfolds_class = KFold(number_folds, shuffle=True)\n",
    "    RMSE_4_lambda = []\n",
    "    # 2. do ridge regression with iteratively different lambdas\n",
    "    for lbd in lambda_vec:\n",
    "        RMSE_list = []\n",
    "        regression_class = linear_model.Ridge(alpha=lbd, solver='svd')\n",
    "        for train_index, test_index in kfolds_class.split(X_train):\n",
    "            x_train, x_validation = X_train[train_index], X_train[test_index]\n",
    "            y_tr, y_val = Y_train[train_index, sign], Y_train[test_index, sign]\n",
    "\n",
    "            regression_class.fit(x_train, y_tr)\n",
    "            pred_label = regression_class.predict(x_validation)\n",
    "\n",
    "            RMSE_list.append(rmse(pred_label, y_val)**0.5)\n",
    "\n",
    "        RMSE_list = np.array(RMSE_list)\n",
    "        RMSE_4_lambda.append(np.average(RMSE_list))\n",
    "\n",
    "    RMSE_4_lambda = np.array(RMSE_4_lambda)\n",
    "\n",
    "    best_idx = np.argmin(RMSE_4_lambda)\n",
    "    best_lambda = lambda_vec[best_idx]\n",
    "\n",
    "    regression_class = linear_model.Ridge(alpha=best_lambda, solver='svd')\n",
    "    regression_class.fit(X_train, Y_train[:,sign])\n",
    "    pred_label = regression_class.predict(X_test)\n",
    "\n",
    "    pred_label_vec.append(pred_label)\n",
    "    #print(\"all rmse\", RMSE_4_lambda)\n",
    "    #print(\"best lambda\", best_lambda)\n",
    "    interative_rmse = validate_model(best_lambda, sign)\n",
    "    #print(\"validation error for current model\", interative_rmse)\n",
    "print(\"pred_label_vec\", pred_label_vec)"
   ],
   "metadata": {
    "collapsed": false,
    "pycharm": {
     "name": "#%%\n",
     "is_executing": true
    }
   }
  },
  {
   "cell_type": "markdown",
   "source": [
    "# Submission"
   ],
   "metadata": {
    "collapsed": false,
    "pycharm": {
     "name": "#%% md\n"
    }
   }
  },
  {
   "cell_type": "code",
   "execution_count": null,
   "outputs": [],
   "source": [
    "## Subtask 1\n",
    "'''results_1 = np.empty((X_test.shape[0],tot_medical_test))\n",
    "for medical_test in range(0,tot_medical_test):\n",
    "    output_1 = clf_1[medical_test].predict_proba(X_test[:,1::])\n",
    "    print('medical_test ',medical_test,'--> ', output_1.shape)\n",
    "    results_1[:,medical_test] = output_1[:,0]'''\n",
    "\n",
    "## Subtask 2\n",
    "#print(output_2.shape)\n",
    "\n",
    "## Subtask 3\n",
    "#results_3 = np.array(pred_label_vec).transpose()\n",
    "#print(results_3.shape)"
   ],
   "metadata": {
    "collapsed": false,
    "pycharm": {
     "name": "#%%\n",
     "is_executing": true
    }
   }
  },
  {
   "cell_type": "code",
   "execution_count": null,
   "outputs": [],
   "source": [
    "results_1 = np.array(results_1).transpose()\n",
    "results_2 = np.array(results_2)\n",
    "results_3 = np.array(pred_label_vec).transpose()\n",
    "print('output_tot: ',output_tot.shape)\n",
    "print('results_1: ',results_1.shape)\n",
    "print('results_2: ',results_2.shape)\n",
    "print('results_3: ',results_3.shape)\n",
    "output_tot = np.append(output_tot, results_1, axis = 1)\n",
    "output_tot = np.append(output_tot, results_2, axis = 1)\n",
    "output_tot = np.append(output_tot, results_3, axis = 1)\n",
    "\n",
    "\n",
    "\n",
    "header = np.array(sample)[0,:]\n",
    "header = np.asmatrix(header)\n",
    "print('output_tot:', output_tot.shape)\n",
    "#output_tot = np.append(heading, output_tot, axis = 0)\n",
    "output_tot = output_tot.astype(np.float16)\n",
    "output_tot = np.concatenate((header, output_tot), axis=0)\n",
    "df = pd.DataFrame(output_tot)\n",
    "df.to_csv('new_submission.zip', index=False, float_format='%.3f', compression='zip', header=False)\n",
    "\n",
    "\n",
    "\n",
    "\n",
    "with open('sample.csv', 'r') as master, open('submission.csv', 'w') as matched:\n",
    "    cr = csv.reader(master)\n",
    "    cw = csv.writer(matched)\n",
    "    #cw.writerow(next(cr))  # copy title\n",
    "    heading = np.array(next(cr))\n",
    "print('heading shape : ',heading.shape)\n",
    "output_tot = np.append(heading.transpose(), output_tot, axis = 0)\n",
    "print('output_tot:', output_tot)\n",
    "np.savetxt('submission.csv', output_tot, delimiter=',')"
   ],
   "metadata": {
    "collapsed": false,
    "pycharm": {
     "name": "#%%\n",
     "is_executing": true
    }
   }
  }
 ],
 "metadata": {
  "kernelspec": {
   "display_name": "Python 3",
   "language": "python",
   "name": "python3"
  },
  "language_info": {
   "codemirror_mode": {
    "name": "ipython",
    "version": 2
   },
   "file_extension": ".py",
   "mimetype": "text/x-python",
   "name": "python",
   "nbconvert_exporter": "python",
   "pygments_lexer": "ipython2",
   "version": "2.7.6"
  }
 },
 "nbformat": 4,
 "nbformat_minor": 0
}