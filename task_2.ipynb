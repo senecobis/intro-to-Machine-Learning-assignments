{
 "cells": [
  {
   "cell_type": "code",
   "execution_count": 4,
   "outputs": [],
   "source": [
    "import numpy as np\n",
    "import pandas as pd\n",
    "from sklearn.linear_model import LogisticRegression\n",
    "from sklearn.ensemble import RandomForestClassifier\n",
    "\n",
    "\n",
    "train_features = pd.read_csv('train_features.csv')\n",
    "train_labels = pd.read_csv('train_labels.csv')"
   ],
   "metadata": {
    "collapsed": false,
    "pycharm": {
     "name": "#%%\n"
    }
   }
  },
  {
   "cell_type": "markdown",
   "source": [
    "### SUB-TASK 1"
   ],
   "metadata": {
    "collapsed": false
   }
  },
  {
   "cell_type": "code",
   "execution_count": null,
   "outputs": [],
   "source": [
    "pd.DataFrame.fillna(train_features, train_features.mean(), inplace=True)\n",
    "X = train_features.iloc[:, 3:].to_numpy()\n",
    "y = train_labels.to_numpy()\n",
    "clf = LogisticRegression(random_state=0).fit(X, y)"
   ],
   "metadata": {
    "collapsed": false,
    "pycharm": {
     "name": "#%%\n"
    }
   }
  },
  {
   "cell_type": "markdown",
   "source": [
    "Training della network"
   ],
   "metadata": {
    "collapsed": false,
    "pycharm": {
     "name": "#%% md\n"
    }
   }
  },
  {
   "cell_type": "code",
   "execution_count": null,
   "outputs": [],
   "source": [
    "def train_classifier_random_forest(X, y, label):\n",
    "    y_selected = y[label].to_numpy()\n",
    "    rf_clf = RandomForestClassifier(n_jobs=4,\n",
    "        criterion='gini',\n",
    "        max_depth=32,\n",
    "        min_samples_split=2,\n",
    "        min_samples_leaf=16,\n",
    "        random_state=seed,\n",
    "        class_weight='balanced',\n",
    "        n_estimators=200)\n",
    "    if(cv_random_forest):\n",
    "        scores = cross_val_score(rf_clf, X, y_selected, scoring='roc_auc', n_jobs=2)\n",
    "        print(label)\n",
    "        print(\"Random forest Roc auc score: %.2f%%\" % mean(scores))\n",
    "\n",
    "    rf_clf.fit(X, y_selected)\n",
    "    return MedClassifierWrapper(label, rf_clf,\n",
    "            cross_validation_score=-1,\n",
    "            clf_params=None)\n"
   ],
   "metadata": {
    "collapsed": false,
    "pycharm": {
     "name": "#%%\n"
    }
   }
  }
 ],
 "metadata": {
  "kernelspec": {
   "display_name": "Python 3",
   "language": "python",
   "name": "python3"
  },
  "language_info": {
   "codemirror_mode": {
    "name": "ipython",
    "version": 2
   },
   "file_extension": ".py",
   "mimetype": "text/x-python",
   "name": "python",
   "nbconvert_exporter": "python",
   "pygments_lexer": "ipython2",
   "version": "2.7.6"
  }
 },
 "nbformat": 4,
 "nbformat_minor": 0
}